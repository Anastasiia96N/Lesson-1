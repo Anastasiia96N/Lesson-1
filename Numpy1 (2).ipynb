{
  "metadata": {
    "language_info": {
      "codemirror_mode": {
        "name": "python",
        "version": 3
      },
      "file_extension": ".py",
      "mimetype": "text/x-python",
      "name": "python",
      "nbconvert_exporter": "python",
      "pygments_lexer": "ipython3",
      "version": "3.8"
    },
    "kernelspec": {
      "name": "python",
      "display_name": "Python (Pyodide)",
      "language": "python"
    }
  },
  "nbformat_minor": 4,
  "nbformat": 4,
  "cells": [
    {
      "cell_type": "code",
      "source": "import numpy as np",
      "metadata": {
        "trusted": true
      },
      "execution_count": 1,
      "outputs": []
    },
    {
      "cell_type": "code",
      "source": "a = np.array([[1, 6],\n              [2, 8],\n              [3, 11],\n              [3, 10],\n              [1, 7]])",
      "metadata": {
        "trusted": true
      },
      "execution_count": 3,
      "outputs": []
    },
    {
      "cell_type": "code",
      "source": "mean_a = a.mean(axis = 0)\nmean_a",
      "metadata": {
        "trusted": true
      },
      "execution_count": 4,
      "outputs": [
        {
          "execution_count": 4,
          "output_type": "execute_result",
          "data": {
            "text/plain": "array([2. , 8.4])"
          },
          "metadata": {}
        }
      ]
    },
    {
      "cell_type": "code",
      "source": "a_centered = np.subtract (a, mean_a)\na_centered",
      "metadata": {
        "trusted": true
      },
      "execution_count": 5,
      "outputs": [
        {
          "execution_count": 5,
          "output_type": "execute_result",
          "data": {
            "text/plain": "array([[-1. , -2.4],\n       [ 0. , -0.4],\n       [ 1. ,  2.6],\n       [ 1. ,  1.6],\n       [-1. , -1.4]])"
          },
          "metadata": {}
        }
      ]
    },
    {
      "cell_type": "code",
      "source": "a1 = a_centered[:, 0]\na2 = a_centered[:, 1]\na_centered_sp = np.dot(a1, a2)\na_centered_sp",
      "metadata": {
        "trusted": true
      },
      "execution_count": 6,
      "outputs": [
        {
          "execution_count": 6,
          "output_type": "execute_result",
          "data": {
            "text/plain": "8.0"
          },
          "metadata": {}
        }
      ]
    },
    {
      "cell_type": "code",
      "source": "N = a.shape[0]\nN",
      "metadata": {
        "trusted": true
      },
      "execution_count": 7,
      "outputs": [
        {
          "execution_count": 7,
          "output_type": "execute_result",
          "data": {
            "text/plain": "5"
          },
          "metadata": {}
        }
      ]
    },
    {
      "cell_type": "code",
      "source": "my_cov = a_centered_sp/(N-1)\nmy_cov",
      "metadata": {
        "trusted": true
      },
      "execution_count": 8,
      "outputs": [
        {
          "execution_count": 8,
          "output_type": "execute_result",
          "data": {
            "text/plain": "2.0"
          },
          "metadata": {}
        }
      ]
    },
    {
      "cell_type": "code",
      "source": "np.cov(a.transpose())",
      "metadata": {
        "trusted": true
      },
      "execution_count": 9,
      "outputs": [
        {
          "execution_count": 9,
          "output_type": "execute_result",
          "data": {
            "text/plain": "array([[1. , 2. ],\n       [2. , 4.3]])"
          },
          "metadata": {}
        }
      ]
    },
    {
      "cell_type": "code",
      "source": "import pandas as pd",
      "metadata": {
        "trusted": true
      },
      "execution_count": 1,
      "outputs": []
    },
    {
      "cell_type": "code",
      "source": "authors = pd.DataFrame ({'author_id' : [1, 2, 3],\n                        'author_name' : ['Тургенев', 'Чехов', 'Островский']},\n                       columns = ['author_id', 'author_name'])\nauthors",
      "metadata": {
        "trusted": true
      },
      "execution_count": 2,
      "outputs": [
        {
          "execution_count": 2,
          "output_type": "execute_result",
          "data": {
            "text/plain": "   author_id author_name\n0          1    Тургенев\n1          2       Чехов\n2          3  Островский",
            "text/html": "<div>\n<style scoped>\n    .dataframe tbody tr th:only-of-type {\n        vertical-align: middle;\n    }\n\n    .dataframe tbody tr th {\n        vertical-align: top;\n    }\n\n    .dataframe thead th {\n        text-align: right;\n    }\n</style>\n<table border=\"1\" class=\"dataframe\">\n  <thead>\n    <tr style=\"text-align: right;\">\n      <th></th>\n      <th>author_id</th>\n      <th>author_name</th>\n    </tr>\n  </thead>\n  <tbody>\n    <tr>\n      <th>0</th>\n      <td>1</td>\n      <td>Тургенев</td>\n    </tr>\n    <tr>\n      <th>1</th>\n      <td>2</td>\n      <td>Чехов</td>\n    </tr>\n    <tr>\n      <th>2</th>\n      <td>3</td>\n      <td>Островский</td>\n    </tr>\n  </tbody>\n</table>\n</div>"
          },
          "metadata": {}
        }
      ]
    },
    {
      "cell_type": "code",
      "source": "books = pd.DataFrame ({'author_id' : [1, 1, 1, 2, 2, 3, 3],\n                     'book_title' : ['Отцы и дети', 'Рудин', 'Дворянское гнездо', 'Толстый и тонкий','Дама с собачкой', 'Гроза',\n                                     'Таланты и поклонники'],\n                     'price' : [450, 300, 350, 500, 450, 370, 290]},\n                    columns = ['author_id', 'book_title', 'price'])\nbooks",
      "metadata": {
        "trusted": true
      },
      "execution_count": 7,
      "outputs": [
        {
          "execution_count": 7,
          "output_type": "execute_result",
          "data": {
            "text/plain": "   author_id            book_title  price\n0          1           Отцы и дети    450\n1          1                 Рудин    300\n2          1     Дворянское гнездо    350\n3          2      Толстый и тонкий    500\n4          2       Дама с собачкой    450\n5          3                 Гроза    370\n6          3  Таланты и поклонники    290",
            "text/html": "<div>\n<style scoped>\n    .dataframe tbody tr th:only-of-type {\n        vertical-align: middle;\n    }\n\n    .dataframe tbody tr th {\n        vertical-align: top;\n    }\n\n    .dataframe thead th {\n        text-align: right;\n    }\n</style>\n<table border=\"1\" class=\"dataframe\">\n  <thead>\n    <tr style=\"text-align: right;\">\n      <th></th>\n      <th>author_id</th>\n      <th>book_title</th>\n      <th>price</th>\n    </tr>\n  </thead>\n  <tbody>\n    <tr>\n      <th>0</th>\n      <td>1</td>\n      <td>Отцы и дети</td>\n      <td>450</td>\n    </tr>\n    <tr>\n      <th>1</th>\n      <td>1</td>\n      <td>Рудин</td>\n      <td>300</td>\n    </tr>\n    <tr>\n      <th>2</th>\n      <td>1</td>\n      <td>Дворянское гнездо</td>\n      <td>350</td>\n    </tr>\n    <tr>\n      <th>3</th>\n      <td>2</td>\n      <td>Толстый и тонкий</td>\n      <td>500</td>\n    </tr>\n    <tr>\n      <th>4</th>\n      <td>2</td>\n      <td>Дама с собачкой</td>\n      <td>450</td>\n    </tr>\n    <tr>\n      <th>5</th>\n      <td>3</td>\n      <td>Гроза</td>\n      <td>370</td>\n    </tr>\n    <tr>\n      <th>6</th>\n      <td>3</td>\n      <td>Таланты и поклонники</td>\n      <td>290</td>\n    </tr>\n  </tbody>\n</table>\n</div>"
          },
          "metadata": {}
        }
      ]
    },
    {
      "cell_type": "code",
      "source": "authors_price = pd.merge(authors, books, on = 'author_id', how = 'outer')\nauthors_price",
      "metadata": {
        "trusted": true
      },
      "execution_count": 8,
      "outputs": [
        {
          "execution_count": 8,
          "output_type": "execute_result",
          "data": {
            "text/plain": "   author_id author_name            book_title  price\n0          1    Тургенев           Отцы и дети    450\n1          1    Тургенев                 Рудин    300\n2          1    Тургенев     Дворянское гнездо    350\n3          2       Чехов      Толстый и тонкий    500\n4          2       Чехов       Дама с собачкой    450\n5          3  Островский                 Гроза    370\n6          3  Островский  Таланты и поклонники    290",
            "text/html": "<div>\n<style scoped>\n    .dataframe tbody tr th:only-of-type {\n        vertical-align: middle;\n    }\n\n    .dataframe tbody tr th {\n        vertical-align: top;\n    }\n\n    .dataframe thead th {\n        text-align: right;\n    }\n</style>\n<table border=\"1\" class=\"dataframe\">\n  <thead>\n    <tr style=\"text-align: right;\">\n      <th></th>\n      <th>author_id</th>\n      <th>author_name</th>\n      <th>book_title</th>\n      <th>price</th>\n    </tr>\n  </thead>\n  <tbody>\n    <tr>\n      <th>0</th>\n      <td>1</td>\n      <td>Тургенев</td>\n      <td>Отцы и дети</td>\n      <td>450</td>\n    </tr>\n    <tr>\n      <th>1</th>\n      <td>1</td>\n      <td>Тургенев</td>\n      <td>Рудин</td>\n      <td>300</td>\n    </tr>\n    <tr>\n      <th>2</th>\n      <td>1</td>\n      <td>Тургенев</td>\n      <td>Дворянское гнездо</td>\n      <td>350</td>\n    </tr>\n    <tr>\n      <th>3</th>\n      <td>2</td>\n      <td>Чехов</td>\n      <td>Толстый и тонкий</td>\n      <td>500</td>\n    </tr>\n    <tr>\n      <th>4</th>\n      <td>2</td>\n      <td>Чехов</td>\n      <td>Дама с собачкой</td>\n      <td>450</td>\n    </tr>\n    <tr>\n      <th>5</th>\n      <td>3</td>\n      <td>Островский</td>\n      <td>Гроза</td>\n      <td>370</td>\n    </tr>\n    <tr>\n      <th>6</th>\n      <td>3</td>\n      <td>Островский</td>\n      <td>Таланты и поклонники</td>\n      <td>290</td>\n    </tr>\n  </tbody>\n</table>\n</div>"
          },
          "metadata": {}
        }
      ]
    },
    {
      "cell_type": "code",
      "source": "top5=authors_price.nlargest(5, 'price')\ntop5\n",
      "metadata": {
        "trusted": true
      },
      "execution_count": 9,
      "outputs": [
        {
          "execution_count": 9,
          "output_type": "execute_result",
          "data": {
            "text/plain": "   author_id author_name         book_title  price\n3          2       Чехов   Толстый и тонкий    500\n0          1    Тургенев        Отцы и дети    450\n4          2       Чехов    Дама с собачкой    450\n5          3  Островский              Гроза    370\n2          1    Тургенев  Дворянское гнездо    350",
            "text/html": "<div>\n<style scoped>\n    .dataframe tbody tr th:only-of-type {\n        vertical-align: middle;\n    }\n\n    .dataframe tbody tr th {\n        vertical-align: top;\n    }\n\n    .dataframe thead th {\n        text-align: right;\n    }\n</style>\n<table border=\"1\" class=\"dataframe\">\n  <thead>\n    <tr style=\"text-align: right;\">\n      <th></th>\n      <th>author_id</th>\n      <th>author_name</th>\n      <th>book_title</th>\n      <th>price</th>\n    </tr>\n  </thead>\n  <tbody>\n    <tr>\n      <th>3</th>\n      <td>2</td>\n      <td>Чехов</td>\n      <td>Толстый и тонкий</td>\n      <td>500</td>\n    </tr>\n    <tr>\n      <th>0</th>\n      <td>1</td>\n      <td>Тургенев</td>\n      <td>Отцы и дети</td>\n      <td>450</td>\n    </tr>\n    <tr>\n      <th>4</th>\n      <td>2</td>\n      <td>Чехов</td>\n      <td>Дама с собачкой</td>\n      <td>450</td>\n    </tr>\n    <tr>\n      <th>5</th>\n      <td>3</td>\n      <td>Островский</td>\n      <td>Гроза</td>\n      <td>370</td>\n    </tr>\n    <tr>\n      <th>2</th>\n      <td>1</td>\n      <td>Тургенев</td>\n      <td>Дворянское гнездо</td>\n      <td>350</td>\n    </tr>\n  </tbody>\n</table>\n</div>"
          },
          "metadata": {}
        }
      ]
    },
    {
      "cell_type": "code",
      "source": "df1 = authors_price.groupby('author_name').agg({'price': 'min'}).rename(columns={'price':'min_price'})\ndf2 = authors_price.groupby('author_name').agg({'price': 'max'}).rename(columns={'price':'max_price'})\ndf3 = authors_price.groupby('author_name').agg({'price': 'mean'}).rename(columns={'price':'mean_price'})\nauthors_stat=pd.concat([df1, df2, df3], axis = 1)\nauthors_stat\n",
      "metadata": {
        "trusted": true
      },
      "execution_count": 10,
      "outputs": [
        {
          "execution_count": 10,
          "output_type": "execute_result",
          "data": {
            "text/plain": "             min_price  max_price  mean_price\nauthor_name                                  \nОстровский         290        370  330.000000\nТургенев           300        450  366.666667\nЧехов              450        500  475.000000",
            "text/html": "<div>\n<style scoped>\n    .dataframe tbody tr th:only-of-type {\n        vertical-align: middle;\n    }\n\n    .dataframe tbody tr th {\n        vertical-align: top;\n    }\n\n    .dataframe thead th {\n        text-align: right;\n    }\n</style>\n<table border=\"1\" class=\"dataframe\">\n  <thead>\n    <tr style=\"text-align: right;\">\n      <th></th>\n      <th>min_price</th>\n      <th>max_price</th>\n      <th>mean_price</th>\n    </tr>\n    <tr>\n      <th>author_name</th>\n      <th></th>\n      <th></th>\n      <th></th>\n    </tr>\n  </thead>\n  <tbody>\n    <tr>\n      <th>Островский</th>\n      <td>290</td>\n      <td>370</td>\n      <td>330.000000</td>\n    </tr>\n    <tr>\n      <th>Тургенев</th>\n      <td>300</td>\n      <td>450</td>\n      <td>366.666667</td>\n    </tr>\n    <tr>\n      <th>Чехов</th>\n      <td>450</td>\n      <td>500</td>\n      <td>475.000000</td>\n    </tr>\n  </tbody>\n</table>\n</div>"
          },
          "metadata": {}
        }
      ]
    },
    {
      "cell_type": "code",
      "source": "",
      "metadata": {},
      "execution_count": null,
      "outputs": []
    }
  ]
}